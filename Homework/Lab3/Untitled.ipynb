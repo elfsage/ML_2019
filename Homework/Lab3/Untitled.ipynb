{
 "cells": [
  {
   "cell_type": "markdown",
   "metadata": {},
   "source": [
    "# Лабораторная работа 3"
   ]
  },
  {
   "cell_type": "markdown",
   "metadata": {},
   "source": [
    "Перед выполнением лабораторной работы необходимо загрузить набор данных в соответствии с вариантом на диск\n",
    "\n",
    "<ol>\n",
    "    <li>Написать программу, которая разделяет исходную выборку на обучающую и тестовую (training set, test set). Использовать стандартные функции (train_test_split и др. нельзя).</li>\n",
    "<li>С использованием библиотеки scikit-learn обучить модель линейной регрессии по обучающей выборке пример\n",
    "<li>Проверить точность модели по тестовой выборке</li>\n",
    "<li>Построить модель с использованием полиномиальной функции пример. Построить графики зависимости точности на обучающей и тестовой выборке от степени полиномиальной функции.</li>\n",
    "<li>Построить модель с использованием регуляризации пример. На основе экспериментов подобрать параметры для регуляризации.</li>\n",
    "<li>Построить графики зависимости точности модели на обучающей и тестовой выборках от коэффициента регуляризации.</li></ol>"
   ]
  },
  {
   "cell_type": "markdown",
   "metadata": {},
   "source": [
    "## Задание 1"
   ]
  },
  {
   "cell_type": "code",
   "execution_count": null,
   "metadata": {},
   "outputs": [],
   "source": [
    "def train_test_split(x, y, train_part=0.7):\n",
    "    train_size = int(x.shape[0]*train_part)\n",
    "    \n",
    "    return x[:train_size], y[:train_size], x[train_size:], y[train_size]"
   ]
  },
  {
   "cell_type": "markdown",
   "metadata": {},
   "source": [
    "## Задание 2"
   ]
  },
  {
   "cell_type": "code",
   "execution_count": 4,
   "metadata": {},
   "outputs": [],
   "source": [
    "import numpy as np\n",
    "from sklearn import datasets, linear_model\n",
    "from sklearn.metrics import mean_squared_error, r2_score\n",
    "import pandas as pd"
   ]
  },
  {
   "cell_type": "code",
   "execution_count": 9,
   "metadata": {},
   "outputs": [],
   "source": [
    "df_train = pd.read_csv('UJIndoorLoc/trainingData.csv')\n",
    "df_test = pd.read_csv('UJIndoorLoc/validationData.csv')\n",
    "\n",
    "x_train = df_train.values.T[:520].T\n",
    "y_train = df_train.values.T[[520, 521, 522, 523], :].T\n",
    "x_test = df_test.values.T[:520].T\n",
    "y_test = df_test.values.T[[520, 521, 522, 523], :].T"
   ]
  },
  {
   "cell_type": "code",
   "execution_count": 17,
   "metadata": {},
   "outputs": [
    {
     "data": {
      "text/plain": [
       "array([[-7.54126430e+03,  4.86492078e+06,  2.00000000e+00,\n",
       "         1.00000000e+00],\n",
       "       [-7.53662120e+03,  4.86493423e+06,  2.00000000e+00,\n",
       "         1.00000000e+00],\n",
       "       [-7.51915240e+03,  4.86494953e+06,  2.00000000e+00,\n",
       "         1.00000000e+00],\n",
       "       ...,\n",
       "       [-7.51684150e+03,  4.86488929e+06,  3.00000000e+00,\n",
       "         1.00000000e+00],\n",
       "       [-7.53732190e+03,  4.86489578e+06,  3.00000000e+00,\n",
       "         1.00000000e+00],\n",
       "       [-7.53616580e+03,  4.86489786e+06,  3.00000000e+00,\n",
       "         1.00000000e+00]])"
      ]
     },
     "execution_count": 17,
     "metadata": {},
     "output_type": "execute_result"
    }
   ],
   "source": [
    "x_train\n",
    "y_train"
   ]
  },
  {
   "cell_type": "code",
   "execution_count": 15,
   "metadata": {},
   "outputs": [],
   "source": []
  },
  {
   "cell_type": "code",
   "execution_count": null,
   "metadata": {},
   "outputs": [],
   "source": []
  },
  {
   "cell_type": "code",
   "execution_count": null,
   "metadata": {},
   "outputs": [],
   "source": [
    "import matplotlib.pyplot as plt\n"
   ]
  },
  {
   "cell_type": "code",
   "execution_count": null,
   "metadata": {},
   "outputs": [],
   "source": []
  },
  {
   "cell_type": "code",
   "execution_count": null,
   "metadata": {},
   "outputs": [],
   "source": []
  },
  {
   "cell_type": "code",
   "execution_count": null,
   "metadata": {},
   "outputs": [],
   "source": []
  },
  {
   "cell_type": "code",
   "execution_count": null,
   "metadata": {},
   "outputs": [],
   "source": []
  },
  {
   "cell_type": "code",
   "execution_count": null,
   "metadata": {},
   "outputs": [],
   "source": []
  },
  {
   "cell_type": "code",
   "execution_count": null,
   "metadata": {},
   "outputs": [],
   "source": []
  },
  {
   "cell_type": "code",
   "execution_count": null,
   "metadata": {},
   "outputs": [],
   "source": []
  }
 ],
 "metadata": {
  "kernelspec": {
   "display_name": "Python 3",
   "language": "python",
   "name": "python3"
  },
  "language_info": {
   "codemirror_mode": {
    "name": "ipython",
    "version": 3
   },
   "file_extension": ".py",
   "mimetype": "text/x-python",
   "name": "python",
   "nbconvert_exporter": "python",
   "pygments_lexer": "ipython3",
   "version": "3.7.5"
  }
 },
 "nbformat": 4,
 "nbformat_minor": 2
}
