{
 "cells": [
  {
   "cell_type": "markdown",
   "metadata": {},
   "source": [
    "# Лабораторная работа 3"
   ]
  },
  {
   "cell_type": "markdown",
   "metadata": {},
   "source": [
    "Перед выполнением лабораторной работы необходимо загрузить набор данных в соответствии с вариантом на диск\n",
    "\n",
    "<ol>\n",
    "    <li>Написать программу, которая разделяет исходную выборку на обучающую и тестовую (training set, test set). Использовать стандартные функции (train_test_split и др. нельзя).</li>\n",
    "<li>С использованием библиотеки scikit-learn обучить модель линейной регрессии по обучающей выборке пример\n",
    "<li>Проверить точность модели по тестовой выборке</li>\n",
    "<li>Построить модель с использованием полиномиальной функции пример. Построить графики зависимости точности на обучающей и тестовой выборке от степени полиномиальной функции.</li>\n",
    "<li>Построить модель с использованием регуляризации пример. На основе экспериментов подобрать параметры для регуляризации.</li>\n",
    "<li>Построить графики зависимости точности модели на обучающей и тестовой выборках от коэффициента регуляризации.</li></ol>"
   ]
  },
  {
   "cell_type": "markdown",
   "metadata": {},
   "source": [
    "## Задание 1"
   ]
  },
  {
   "cell_type": "code",
   "execution_count": 1,
   "metadata": {},
   "outputs": [],
   "source": [
    "def train_test_split(x, y, train_part=0.7):\n",
    "    train_size = int(x.shape[0]*train_part)\n",
    "    \n",
    "    return x[:train_size], y[:train_size], x[train_size:], y[train_size]"
   ]
  },
  {
   "cell_type": "markdown",
   "metadata": {},
   "source": [
    "## Задание 2"
   ]
  },
  {
   "cell_type": "code",
   "execution_count": 2,
   "metadata": {},
   "outputs": [],
   "source": [
    "import numpy as np\n",
    "from sklearn.metrics import mean_squared_error, r2_score\n",
    "from sklearn.preprocessing import StandardScaler\n",
    "from sklearn.linear_model import LinearRegression\n",
    "import pandas as pd"
   ]
  },
  {
   "cell_type": "code",
   "execution_count": 3,
   "metadata": {},
   "outputs": [
    {
     "data": {
      "text/plain": [
       "(19937, 1)"
      ]
     },
     "execution_count": 3,
     "metadata": {},
     "output_type": "execute_result"
    }
   ],
   "source": [
    "df_train = pd.read_csv('UJIndoorLoc/trainingData.csv')\n",
    "df_test = pd.read_csv('UJIndoorLoc/validationData.csv')\n",
    "\n",
    "x_train = df_train.values.T[:520].T[:,:20]\n",
    "y_train = df_train.values.T[[520, 521, 522, 523], :].T[:,:1]\n",
    "x_test = df_test.values.T[:520].T[:,:20]\n",
    "y_test = df_test.values.T[[520, 521, 522, 523], :].T[:,:1]\n",
    "\n",
    "y_train.shape"
   ]
  },
  {
   "cell_type": "code",
   "execution_count": 4,
   "metadata": {},
   "outputs": [],
   "source": [
    "x_train_scaler = StandardScaler()\n",
    "x_train = x_train_scaler.fit_transform(x_train)\n",
    "\n",
    "y_train_scaler = StandardScaler()\n",
    "y_train = y_train_scaler.fit_transform(y_train)"
   ]
  },
  {
   "cell_type": "code",
   "execution_count": 5,
   "metadata": {},
   "outputs": [
    {
     "data": {
      "text/plain": [
       "LinearRegression(copy_X=True, fit_intercept=True, n_jobs=1, normalize=False)"
      ]
     },
     "execution_count": 5,
     "metadata": {},
     "output_type": "execute_result"
    }
   ],
   "source": [
    "reg = LinearRegression()\n",
    "reg.fit(x_train, y_train)"
   ]
  },
  {
   "cell_type": "markdown",
   "metadata": {},
   "source": [
    "## Задание 3"
   ]
  },
  {
   "cell_type": "code",
   "execution_count": 6,
   "metadata": {},
   "outputs": [],
   "source": [
    "x_test_scaler = StandardScaler()\n",
    "x_test = x_test_scaler.fit_transform(x_test)\n",
    "\n",
    "y_test_scaler = StandardScaler()\n",
    "y_test = y_test_scaler.fit_transform(y_test)"
   ]
  },
  {
   "cell_type": "code",
   "execution_count": 7,
   "metadata": {},
   "outputs": [
    {
     "name": "stdout",
     "output_type": "stream",
     "text": [
      "MSE: 0.688700399554\n",
      "R2: -1.2169194497\n"
     ]
    }
   ],
   "source": [
    "y_pred_reg = reg.predict(x_test)\n",
    "\n",
    "print('MSE:', mean_squared_error(y_pred_reg, y_test))\n",
    "print('R2:', r2_score(y_pred_reg, y_test))"
   ]
  },
  {
   "cell_type": "markdown",
   "metadata": {},
   "source": [
    "## Задание 4"
   ]
  },
  {
   "cell_type": "code",
   "execution_count": 8,
   "metadata": {},
   "outputs": [],
   "source": [
    "from sklearn.linear_model import Ridge\n",
    "from sklearn.preprocessing import PolynomialFeatures\n",
    "from sklearn.pipeline import make_pipeline\n",
    "import matplotlib.pyplot as plt"
   ]
  },
  {
   "cell_type": "code",
   "execution_count": 9,
   "metadata": {},
   "outputs": [
    {
     "name": "stdout",
     "output_type": "stream",
     "text": [
      "Poly degree: 1\n",
      "\tMSE (test): 0.688699082841\n",
      "\tR2: (test) -1.21701324616\n",
      "\tMSE (train): 0.605641124518\n",
      "\tR2: (train) -0.535831272236\n",
      "Poly degree: 2\n",
      "\tMSE (test): 0.746857993855\n",
      "\tR2: (test) -0.558875878397\n",
      "\tMSE (train): 0.562034433512\n",
      "\tR2: (train) -0.283513661605\n",
      "Poly degree: 3\n",
      "\tMSE (test): 0.82589637533\n",
      "\tR2: (test) -1.60503077192\n",
      "\tMSE (train): 0.55641956274\n",
      "\tR2: (train) -0.254636534713\n",
      "Poly degree: 4\n",
      "\tMSE (test): 4.05803561252\n",
      "\tR2: (test) -0.252216988519\n",
      "\tMSE (train): 0.556109139964\n",
      "\tR2: (train) -0.252950767702\n"
     ]
    },
    {
     "name": "stderr",
     "output_type": "stream",
     "text": [
      "C:\\ProgramData\\Anaconda3\\envs\\keras\\lib\\site-packages\\scipy\\linalg\\basic.py:223: RuntimeWarning: scipy.linalg.solve\n",
      "Ill-conditioned matrix detected. Result is not guaranteed to be accurate.\n",
      "Reciprocal condition number: 1.2586771789188303e-21\n",
      "  ' condition number: {}'.format(rcond), RuntimeWarning)\n"
     ]
    },
    {
     "name": "stdout",
     "output_type": "stream",
     "text": [
      "Poly degree: 5\n",
      "\tMSE (test): 377082.216625\n",
      "\tR2: (test) -0.00344527863467\n",
      "\tMSE (train): 103.652709285\n",
      "\tR2: (train) 0.0176059712816\n"
     ]
    }
   ],
   "source": [
    "degrees = range(1,6)\n",
    "r2s_test_poly = []\n",
    "r2s_train_poly = []\n",
    "\n",
    "for degree in degrees:\n",
    "    poly = make_pipeline(PolynomialFeatures(degree), Ridge())\n",
    "    poly.fit(x_train, y_train)\n",
    "    \n",
    "    y_pred_poly_test = poly.predict(x_test)\n",
    "    r2_test = r2_score(y_pred_poly_test, y_test)\n",
    "    r2s_test_poly.append(r2_test)\n",
    "\n",
    "    y_pred_poly_train = poly.predict(x_train)\n",
    "    r2_train = r2_score(y_pred_poly_train, y_train)\n",
    "    r2s_train_poly.append(r2_train)\n",
    "\n",
    "    print('Poly degree:', degree)\n",
    "    print('\\tMSE (test):', mean_squared_error(y_pred_poly_test, y_test))\n",
    "    print('\\tR2: (test)', r2_test)\n",
    "\n",
    "    print('\\tMSE (train):', mean_squared_error(y_pred_poly_train, y_train))\n",
    "    print('\\tR2: (train)', r2_train)\n"
   ]
  },
  {
   "cell_type": "code",
   "execution_count": 10,
   "metadata": {},
   "outputs": [
    {
     "data": {
      "text/plain": [
       "<matplotlib.legend.Legend at 0x235800419b0>"
      ]
     },
     "execution_count": 10,
     "metadata": {},
     "output_type": "execute_result"
    },
    {
     "data": {
      "image/png": "[encoded data removed]",
      "text/plain": [
       "<Figure size 432x288 with 1 Axes>"
      ]
     },
     "metadata": {},
     "output_type": "display_data"
    }
   ],
   "source": [
    "plt.plot(degrees, r2s_train_poly, color='blue', linewidth=2, label='Train')\n",
    "plt.plot(degrees, r2s_test_poly, color='red', linewidth=2, label='Test')\n",
    "plt.suptitle('Polynomial model R2 score')\n",
    "plt.legend()\n"
   ]
  },
  {
   "cell_type": "markdown",
   "metadata": {},
   "source": [
    "## Задание 5"
   ]
  },
  {
   "cell_type": "code",
   "execution_count": 11,
   "metadata": {},
   "outputs": [],
   "source": [
    "from sklearn.linear_model import Lasso, ElasticNet, Ridge"
   ]
  },
  {
   "cell_type": "code",
   "execution_count": 12,
   "metadata": {},
   "outputs": [
    {
     "name": "stderr",
     "output_type": "stream",
     "text": [
      "C:\\ProgramData\\Anaconda3\\envs\\keras\\lib\\site-packages\\sklearn\\linear_model\\coordinate_descent.py:491: ConvergenceWarning: Objective did not converge. You might want to increase the number of iterations. Fitting data with very small alpha may cause precision problems.\n",
      "  ConvergenceWarning)\n"
     ]
    },
    {
     "name": "stdout",
     "output_type": "stream",
     "text": [
      "Alpha: 0.0001\n",
      "\tMSE (test): 0.688697775255\n",
      "\tR2: (test) -1.21710645467\n",
      "\tMSE (train): 0.605641125394\n",
      "\tR2: (train) -0.535900742894\n",
      "Alpha: 0.000233572146909\n",
      "\tMSE (test): 0.68869427512\n",
      "\tR2: (test) -1.2173562598\n",
      "\tMSE (train): 0.605641130601\n",
      "\tR2: (train) -0.53608692288\n",
      "Alpha: 0.000545559478117\n",
      "\tMSE (test): 0.688686122887\n",
      "\tR2: (test) -1.21793981765\n",
      "\tMSE (train): 0.605641158977\n",
      "\tR2: (train) -0.536521814685\n",
      "Alpha: 0.0012742749857\n",
      "\tMSE (test): 0.688667206967\n",
      "\tR2: (test) -1.21930329623\n",
      "\tMSE (train): 0.605641313325\n",
      "\tR2: (train) -0.53753775032\n",
      "Alpha: 0.00297635144163\n",
      "\tMSE (test): 0.688623701116\n",
      "\tR2: (test) -1.22249044626\n",
      "\tMSE (train): 0.60564214962\n",
      "\tR2: (train) -0.539911521631\n",
      "Alpha: 0.00695192796178\n",
      "\tMSE (test): 0.68852567882\n",
      "\tR2: (test) -1.22994793653\n",
      "\tMSE (train): 0.605646641707\n",
      "\tR2: (train) -0.545460668815\n",
      "Alpha: 0.0162377673919\n",
      "\tMSE (test): 0.68831524104\n",
      "\tR2: (test) -1.24743692103\n",
      "\tMSE (train): 0.605670330625\n",
      "\tR2: (train) -0.558449265805\n",
      "Alpha: 0.0379269019073\n",
      "\tMSE (test): 0.687913384244\n",
      "\tR2: (test) -1.28865278111\n",
      "\tMSE (train): 0.605790949867\n",
      "\tR2: (train) -0.588954513324\n",
      "Alpha: 0.088586679041\n",
      "\tMSE (test): 0.687367432581\n",
      "\tR2: (test) -1.38677274184\n",
      "\tMSE (train): 0.606371160574\n",
      "\tR2: (train) -0.661268841706\n",
      "Alpha: 0.206913808111\n",
      "\tMSE (test): 0.687592357153\n",
      "\tR2: (test) -1.62528574533\n",
      "\tMSE (train): 0.60893876816\n",
      "\tR2: (train) -0.836828215984\n",
      "Alpha: 0.483293023857\n",
      "\tMSE (test): 0.69279307442\n",
      "\tR2: (test) -2.2322634886\n",
      "\tMSE (train): 0.618864290226\n",
      "\tR2: (train) -1.28659430013\n",
      "Alpha: 1.12883789168\n",
      "\tMSE (test): 0.714363471738\n",
      "\tR2: (test) -3.93023367656\n",
      "\tMSE (train): 0.649390653083\n",
      "\tR2: (train) -2.56429149662\n",
      "Alpha: 2.63665089873\n",
      "\tMSE (test): 0.766349753784\n",
      "\tR2: (test) -9.46149588476\n",
      "\tMSE (train): 0.715879384991\n",
      "\tR2: (train) -6.81417028852\n",
      "Alpha: 6.15848211066\n",
      "\tMSE (test): 0.842190105255\n",
      "\tR2: (test) -30.9814048781\n",
      "\tMSE (train): 0.809276304122\n",
      "\tR2: (train) -23.6909619348\n",
      "Alpha: 14.3844988829\n",
      "\tMSE (test): 0.911754053001\n",
      "\tR2: (test) -128.223956765\n",
      "\tMSE (train): 0.893697132922\n",
      "\tR2: (train) -101.08280032\n",
      "Alpha: 33.5981828628\n",
      "\tMSE (test): 0.956739229274\n",
      "\tR2: (test) -611.688900506\n",
      "\tMSE (train): 0.947968044158\n",
      "\tR2: (train) -489.056536824\n",
      "Alpha: 78.4759970351\n",
      "\tMSE (test): 0.980275463955\n",
      "\tR2: (test) -3139.40342777\n",
      "\tMSE (train): 0.976292804221\n",
      "\tR2: (train) -2525.72769217\n",
      "Alpha: 183.298071083\n",
      "\tMSE (test): 0.991315764776\n",
      "\tR2: (test) -16672.9661383\n",
      "\tMSE (train): 0.98956547308\n",
      "\tR2: (train) -13450.2404794\n",
      "Alpha: 428.133239872\n",
      "\tMSE (test): 0.996236462372\n",
      "\tR2: (test) -89907.2050632\n",
      "\tMSE (train): 0.995478522851\n",
      "\tR2: (train) -72613.7910347\n",
      "Alpha: 1000.0\n",
      "\tMSE (test): 0.998380226508\n",
      "\tR2: (test) -488043.519168\n",
      "\tMSE (train): 0.998054130004\n",
      "\tR2: (train) -394367.393568\n"
     ]
    }
   ],
   "source": [
    "alphas = pd.np.logspace(-4, 3, 20)\n",
    "r2s_test_lasso = []\n",
    "r2s_train_lasso = []\n",
    "\n",
    "for alpha in alphas:\n",
    "    lasso = ElasticNet(alpha, 0)\n",
    "    lasso.fit(x_train, y_train)\n",
    "    \n",
    "    y_pred_lasso_test = lasso.predict(x_test)\n",
    "    r2_test = r2_score(y_pred_lasso_test, y_test)\n",
    "    r2s_test_lasso.append(r2_test)\n",
    "\n",
    "    y_pred_lasso_train = lasso.predict(x_train)\n",
    "    r2_train = r2_score(y_pred_lasso_train, y_train)\n",
    "    r2s_train_lasso.append(r2_train)\n",
    "    \n",
    "    print('Alpha:', alpha)\n",
    "    print('\\tMSE (test):', mean_squared_error(y_pred_lasso_test, y_test))\n",
    "    print('\\tR2: (test)', r2_test)\n",
    "\n",
    "    print('\\tMSE (train):', mean_squared_error(y_pred_lasso_train, y_train))\n",
    "    print('\\tR2: (train)', r2_train)"
   ]
  },
  {
   "cell_type": "code",
   "execution_count": 13,
   "metadata": {},
   "outputs": [
    {
     "data": {
      "text/plain": [
       "<matplotlib.legend.Legend at 0x23580126c50>"
      ]
     },
     "execution_count": 13,
     "metadata": {},
     "output_type": "execute_result"
    },
    {
     "data": {
      "image/png": "[encoded data removed]",
      "text/plain": [
       "<Figure size 432x288 with 1 Axes>"
      ]
     },
     "metadata": {},
     "output_type": "display_data"
    }
   ],
   "source": [
    "plt.plot(alphas, r2s_train_lasso, color='blue', linewidth=2, label='Train')\n",
    "plt.plot(alphas, r2s_test_lasso, color='red', linewidth=2, label='Test')\n",
    "plt.suptitle('Polynomial model R2 score')\n",
    "plt.legend()"
   ]
  }
 ],
 "metadata": {
  "kernelspec": {
   "display_name": "Python 3",
   "language": "python",
   "name": "python3"
  },
  "language_info": {
   "codemirror_mode": {
    "name": "ipython",
    "version": 3
   },
   "file_extension": ".py",
   "mimetype": "text/x-python",
   "name": "python",
   "nbconvert_exporter": "python",
   "pygments_lexer": "ipython3",
   "version": "3.6.6"
  }
 },
 "nbformat": 4,
 "nbformat_minor": 2
}
